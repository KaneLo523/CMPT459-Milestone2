{
 "cells": [
  {
   "cell_type": "code",
   "execution_count": 40,
   "metadata": {},
   "outputs": [],
   "source": [
    "import pandas as pd\n",
    "import numpy as np\n",
    "import seaborn as sns\n",
    "\n",
    "from sklearn.preprocessing import MinMaxScaler, StandardScaler\n",
    "from sklearn.pipeline import make_pipeline\n",
    "from sklearn.model_selection import train_test_split\n",
    "from sklearn.svm import SVC\n",
    "\n",
    "from sklearn.feature_selection import SelectKBest\n",
    "from sklearn.ensemble import ExtraTreesClassifier\n",
    "from sklearn.feature_selection import chi2\n",
    "\n",
    "from sklearn.decomposition import PCA\n",
    "from sklearn.model_selection import GridSearchCV\n",
    "\n",
    "from sklearn.model_selection import cross_val_score\n",
    "from sklearn.metrics import accuracy_score"
   ]
  },
  {
   "cell_type": "code",
   "execution_count": 2,
   "metadata": {},
   "outputs": [],
   "source": [
    "train_df = pd.read_json(\"new_train.json.zip\")\n",
    "data = train_df.head()"
   ]
  },
  {
   "cell_type": "code",
   "execution_count": 3,
   "metadata": {},
   "outputs": [
    {
     "data": {
      "text/plain": [
       "(5000, 26)"
      ]
     },
     "execution_count": 3,
     "metadata": {},
     "output_type": "execute_result"
    }
   ],
   "source": [
    "train_df = train_df.head(5000)\n",
    "train_df.shape"
   ]
  },
  {
   "cell_type": "code",
   "execution_count": 4,
   "metadata": {},
   "outputs": [],
   "source": [
    "all_columns = ['bathrooms', 'bedrooms', 'building_id', 'created', 'description',\n",
    "       'display_address', 'features', 'latitude', 'listing_id', 'longitude',\n",
    "       'manager_id', 'photos', 'price', 'street_address', 'interest_level',\n",
    "       'mean_feature_tdidf', 'mean_des_tdidf', 'closest_hospital',\n",
    "       'closest_station', 'number_features', 'length_description',\n",
    "       'created_hour', 'created_year', 'created_month', 'created_day',\n",
    "       'photos_num']"
   ]
  },
  {
   "cell_type": "code",
   "execution_count": 5,
   "metadata": {},
   "outputs": [],
   "source": [
    "cols = ['bedrooms', 'bathrooms', 'latitude', \n",
    "        'longitude', 'price', 'number_features', \n",
    "        'length_description', 'closest_station', 'closest_hospital',\n",
    "        'created_month', 'created_day', 'created_hour', 'photos_num', \n",
    "        'mean_des_tdidf', 'mean_feature_tdidf']"
   ]
  },
  {
   "cell_type": "code",
   "execution_count": 6,
   "metadata": {},
   "outputs": [],
   "source": [
    "X = train_df[cols]\n",
    "y = train_df['interest_level']\n",
    "\n",
    "X_train, X_valid, y_train, y_valid = train_test_split(X, y, test_size=0.3)"
   ]
  },
  {
   "cell_type": "code",
   "execution_count": 7,
   "metadata": {},
   "outputs": [
    {
     "data": {
      "text/plain": [
       "SVC(C=1.0, cache_size=200, class_weight=None, coef0=0.0,\n",
       "    decision_function_shape='ovr', degree=3, gamma='auto', kernel='rbf',\n",
       "    max_iter=-1, probability=False, random_state=None, shrinking=True,\n",
       "    tol=0.001, verbose=False)"
      ]
     },
     "execution_count": 7,
     "metadata": {},
     "output_type": "execute_result"
    }
   ],
   "source": [
    "model = SVC(gamma='auto')\n",
    "model.fit(X_train, y_train)"
   ]
  },
  {
   "cell_type": "code",
   "execution_count": 8,
   "metadata": {},
   "outputs": [
    {
     "data": {
      "text/plain": [
       "array([0.69373219, 0.69329529, 0.69384835, 0.69527897, 0.69241774])"
      ]
     },
     "execution_count": 8,
     "metadata": {},
     "output_type": "execute_result"
    }
   ],
   "source": [
    "# score = model.score(X_valid, y_valid)\n",
    "# print(score)\n",
    "accuracies = cross_val_score(estimator=model,X=X_train,y=y_train,cv=5)\n",
    "accuracies"
   ]
  },
  {
   "cell_type": "code",
   "execution_count": 9,
   "metadata": {},
   "outputs": [
    {
     "name": "stdout",
     "output_type": "stream",
     "text": [
      "                 Specs          Score\n",
      "3                price  227148.275485\n",
      "5   length_description    8040.324003\n",
      "10        created_hour     458.998667\n",
      "9          created_day     102.266257\n",
      "4      number_features      69.326557\n",
      "11          photos_num      31.857104\n",
      "1            bathrooms       8.714913\n",
      "0             bedrooms       1.992719\n",
      "13  mean_feature_tdidf       1.074995\n",
      "12      mean_des_tdidf       0.456458\n"
     ]
    }
   ],
   "source": [
    "cols = ['bedrooms', 'bathrooms', 'latitude', \n",
    "        'price', 'number_features', \n",
    "        'length_description', 'closest_station', 'closest_hospital',\n",
    "        'created_month', 'created_day', 'created_hour', 'photos_num', \n",
    "        'mean_des_tdidf', 'mean_feature_tdidf']\n",
    "\n",
    "X = train_df[cols]\n",
    "y = train_df['interest_level']\n",
    "\n",
    "# Performing feature selection\n",
    "bestfeatures = SelectKBest(score_func=chi2, k=10)\n",
    "fit = bestfeatures.fit(X,y)\n",
    "dfscores = pd.DataFrame(fit.scores_)\n",
    "dfcolumns = pd.DataFrame(X.columns)\n",
    "#concat two dataframes for better visualization \n",
    "featureScores = pd.concat([dfcolumns,dfscores],axis=1)\n",
    "featureScores.columns = ['Specs','Score']  #naming the dataframe columns\n",
    "print(featureScores.nlargest(10,'Score'))  #print 10 best features"
   ]
  },
  {
   "cell_type": "code",
   "execution_count": 10,
   "metadata": {},
   "outputs": [
    {
     "name": "stdout",
     "output_type": "stream",
     "text": [
      "[0.06527261 0.02035425 0.08621345 0.11845033 0.07029007 0.08852296\n",
      " 0.07541601 0.07896719 0.00029798 0.07920499 0.0847429  0.07328984\n",
      " 0.07824889 0.08072853]\n",
      "price                 0.118450\n",
      "length_description    0.088523\n",
      "latitude              0.086213\n",
      "created_hour          0.084743\n",
      "mean_feature_tdidf    0.080729\n",
      "created_day           0.079205\n",
      "closest_hospital      0.078967\n",
      "mean_des_tdidf        0.078249\n",
      "closest_station       0.075416\n",
      "photos_num            0.073290\n",
      "dtype: float64\n"
     ]
    },
    {
     "name": "stderr",
     "output_type": "stream",
     "text": [
      "/opt/anaconda3/lib/python3.7/site-packages/sklearn/ensemble/forest.py:245: FutureWarning: The default value of n_estimators will change from 10 in version 0.20 to 100 in 0.22.\n",
      "  \"10 in version 0.20 to 100 in 0.22.\", FutureWarning)\n"
     ]
    },
    {
     "data": {
      "image/png": "[encoded data removed]",
      "text/plain": [
       "<Figure size 432x288 with 1 Axes>"
      ]
     },
     "metadata": {
      "needs_background": "light"
     },
     "output_type": "display_data"
    }
   ],
   "source": [
    "from sklearn.ensemble import ExtraTreesClassifier\n",
    "import matplotlib.pyplot as plt\n",
    "model = ExtraTreesClassifier()\n",
    "model.fit(X,y)\n",
    "print(model.feature_importances_) #use inbuilt class feature_importances of tree based classifiers\n",
    "#plot graph of feature importances for better visualization\n",
    "feat_importances = pd.Series(model.feature_importances_, index=X.columns)\n",
    "feat_importances.nlargest(10).plot(kind='barh')\n",
    "# plt.show()\n",
    "print(feat_importances.nlargest(10))"
   ]
  },
  {
   "cell_type": "code",
   "execution_count": 12,
   "metadata": {},
   "outputs": [],
   "source": [
    "top_cols = ['price', 'latitude', 'mean_des_tdidf', \n",
    "            'length_description', 'created_hour', 'closest_hospital',\n",
    "            'closest_station', 'mean_feature_tdidf', 'created_day',\n",
    "            'photos_num']\n",
    "\n",
    "new_train_df = train_df[top_cols]\n",
    "# corrmat = train_df[top_cols].corr()\n",
    "# top_corr_features = corrmat.index\n",
    "# plt.figure(figsize=(10,10))\n",
    "# #plot heat map\n",
    "# g=sns.heatmap(data[top_corr_features].corr(),annot=True,cmap=\"RdYlGn\")"
   ]
  },
  {
   "cell_type": "code",
   "execution_count": 52,
   "metadata": {},
   "outputs": [
    {
     "name": "stdout",
     "output_type": "stream",
     "text": [
      "Training accuracy : 0.6970002788002787\n"
     ]
    }
   ],
   "source": [
    "# Tying to improve model accuracy \n",
    "X = new_train_df\n",
    "y = train_df['interest_level']\n",
    "# X_train, X_valid, y_train, y_valid = train_test_split(X, y, test_size=0.3)\n",
    "\n",
    "model = make_pipeline(\n",
    "        StandardScaler(),\n",
    "        PCA(n_components=2),\n",
    "        SVC(kernel='rbf', gamma=0.1, C=10)\n",
    "    )\n",
    "\n",
    "# model.fit(X_train, y_train)\n",
    "# score = model.score(X_valid, y_valid)\n",
    "# print(score)\n",
    "\n",
    "accuracies = cross_val_score(estimator=model,X=X,y=y,cv=5, scoring='accuracy')\n",
    "accuracies\n",
    "print('Training accuracy :', np.mean(accuracies))"
   ]
  },
  {
   "cell_type": "code",
   "execution_count": 55,
   "metadata": {},
   "outputs": [],
   "source": [
    "# Parameter Tuning\n",
    "\n",
    "# parameters = [{'C':[0.01,0.1,1,10,50,100,500,1000], 'kernel':['rbf'], 'gamma': [0.1,0.125,0.15,0.17,0.2]}]\n",
    "# grid_search = GridSearchCV(estimator=model, param_grid=parameters, scoring ='accuracy',cv=5,n_jobs=-1)\n",
    "# grid_search = grid_search.fit(X_train,y_train)\n",
    "\n",
    "# best_accuracy = grid_search.best_score_\n",
    "# best_accuracy\n",
    "# opt_param = grid_search.best_params_\n",
    "# opt_param\n",
    "# Best params are {'C': 10, 'gamma': 0.1, 'kernel': 'rbf'}"
   ]
  },
  {
   "cell_type": "code",
   "execution_count": 43,
   "metadata": {},
   "outputs": [
    {
     "name": "stdout",
     "output_type": "stream",
     "text": [
      "Training accuracy : 0.6962004786004785\n",
      "Test accuracy : 0.688\n"
     ]
    }
   ],
   "source": [
    "# X = new_train_df\n",
    "# y = train_df['interest_level']\n",
    "\n",
    "# model = make_pipeline(\n",
    "#         SVC(gamma='auto')\n",
    "#     )\n",
    "\n",
    "# model.fit(X_train, y_train)\n",
    "# # score = model.score(X_valid, y_valid)\n",
    "# # print(score)\n",
    "\n",
    "# accuracies = cross_val_score(estimator=model,X=X,y=y,cv=5)\n",
    "# accuracies\n",
    "# print('Training accuracy :', np.mean(accuracies))\n",
    "\n",
    "# predictions = model.predict(X_valid)\n",
    "# test_accuracy = accuracy_score(predictions, y_valid)\n",
    "# print('Test accuracy :', test_accuracy)"
   ]
  },
  {
   "cell_type": "code",
   "execution_count": null,
   "metadata": {},
   "outputs": [],
   "source": []
  },
  {
   "cell_type": "code",
   "execution_count": null,
   "metadata": {},
   "outputs": [],
   "source": [
    "test_df = pd.read_json(\"new_test.json.zip\")\n",
    "# X = test_df[top_cols]\n",
    "# y = test_df['interest_level']\n",
    "\n",
    "# accuracies = cross_val_score(estimator=model,X=X,y=y,cv=5, scoring='accuracy')\n",
    "# accuracies\n",
    "# print('Training accuracy :', np.mean(accuracies))\n",
    "test_df.columns"
   ]
  },
  {
   "cell_type": "code",
   "execution_count": 51,
   "metadata": {},
   "outputs": [
    {
     "ename": "AttributeError",
     "evalue": "predict_proba is not available when  probability=False",
     "output_type": "error",
     "traceback": [
      "\u001b[0;31m---------------------------------------------------------------------------\u001b[0m",
      "\u001b[0;31mAttributeError\u001b[0m                            Traceback (most recent call last)",
      "\u001b[0;32m<ipython-input-51-9b8b4c133af6>\u001b[0m in \u001b[0;36m<module>\u001b[0;34m\u001b[0m\n\u001b[0;32m----> 1\u001b[0;31m \u001b[0my_pred\u001b[0m \u001b[0;34m=\u001b[0m \u001b[0mmodel\u001b[0m\u001b[0;34m.\u001b[0m\u001b[0mpredict_proba\u001b[0m\u001b[0;34m(\u001b[0m\u001b[0mX\u001b[0m\u001b[0;34m)\u001b[0m\u001b[0;34m\u001b[0m\u001b[0;34m\u001b[0m\u001b[0m\n\u001b[0m\u001b[1;32m      2\u001b[0m \u001b[0;34m\u001b[0m\u001b[0m\n\u001b[1;32m      3\u001b[0m submission = pd.DataFrame({\n\u001b[1;32m      4\u001b[0m     \u001b[0;34m\"listing_id\"\u001b[0m\u001b[0;34m:\u001b[0m \u001b[0mtest_df\u001b[0m\u001b[0;34m[\u001b[0m\u001b[0;34m\"listing_id\"\u001b[0m\u001b[0;34m]\u001b[0m\u001b[0;34m,\u001b[0m\u001b[0;34m\u001b[0m\u001b[0;34m\u001b[0m\u001b[0m\n\u001b[1;32m      5\u001b[0m     \u001b[0;34m\"high\"\u001b[0m\u001b[0;34m:\u001b[0m \u001b[0my_pred\u001b[0m\u001b[0;34m[\u001b[0m\u001b[0;34m:\u001b[0m\u001b[0;34m,\u001b[0m\u001b[0;36m0\u001b[0m\u001b[0;34m]\u001b[0m\u001b[0;34m,\u001b[0m\u001b[0;34m\u001b[0m\u001b[0;34m\u001b[0m\u001b[0m\n",
      "\u001b[0;32m/opt/anaconda3/lib/python3.7/site-packages/sklearn/utils/metaestimators.py\u001b[0m in \u001b[0;36m__get__\u001b[0;34m(self, obj, type)\u001b[0m\n\u001b[1;32m    108\u001b[0m                     \u001b[0;32mcontinue\u001b[0m\u001b[0;34m\u001b[0m\u001b[0;34m\u001b[0m\u001b[0m\n\u001b[1;32m    109\u001b[0m                 \u001b[0;32melse\u001b[0m\u001b[0;34m:\u001b[0m\u001b[0;34m\u001b[0m\u001b[0;34m\u001b[0m\u001b[0m\n\u001b[0;32m--> 110\u001b[0;31m                     \u001b[0mgetattr\u001b[0m\u001b[0;34m(\u001b[0m\u001b[0mdelegate\u001b[0m\u001b[0;34m,\u001b[0m \u001b[0mself\u001b[0m\u001b[0;34m.\u001b[0m\u001b[0mattribute_name\u001b[0m\u001b[0;34m)\u001b[0m\u001b[0;34m\u001b[0m\u001b[0;34m\u001b[0m\u001b[0m\n\u001b[0m\u001b[1;32m    111\u001b[0m                     \u001b[0;32mbreak\u001b[0m\u001b[0;34m\u001b[0m\u001b[0;34m\u001b[0m\u001b[0m\n\u001b[1;32m    112\u001b[0m             \u001b[0;32melse\u001b[0m\u001b[0;34m:\u001b[0m\u001b[0;34m\u001b[0m\u001b[0;34m\u001b[0m\u001b[0m\n",
      "\u001b[0;32m/opt/anaconda3/lib/python3.7/site-packages/sklearn/svm/base.py\u001b[0m in \u001b[0;36mpredict_proba\u001b[0;34m(self)\u001b[0m\n\u001b[1;32m    614\u001b[0m         \u001b[0mdatasets\u001b[0m\u001b[0;34m.\u001b[0m\u001b[0;34m\u001b[0m\u001b[0;34m\u001b[0m\u001b[0m\n\u001b[1;32m    615\u001b[0m         \"\"\"\n\u001b[0;32m--> 616\u001b[0;31m         \u001b[0mself\u001b[0m\u001b[0;34m.\u001b[0m\u001b[0m_check_proba\u001b[0m\u001b[0;34m(\u001b[0m\u001b[0;34m)\u001b[0m\u001b[0;34m\u001b[0m\u001b[0;34m\u001b[0m\u001b[0m\n\u001b[0m\u001b[1;32m    617\u001b[0m         \u001b[0;32mreturn\u001b[0m \u001b[0mself\u001b[0m\u001b[0;34m.\u001b[0m\u001b[0m_predict_proba\u001b[0m\u001b[0;34m\u001b[0m\u001b[0;34m\u001b[0m\u001b[0m\n\u001b[1;32m    618\u001b[0m \u001b[0;34m\u001b[0m\u001b[0m\n",
      "\u001b[0;32m/opt/anaconda3/lib/python3.7/site-packages/sklearn/svm/base.py\u001b[0m in \u001b[0;36m_check_proba\u001b[0;34m(self)\u001b[0m\n\u001b[1;32m    581\u001b[0m     \u001b[0;32mdef\u001b[0m \u001b[0m_check_proba\u001b[0m\u001b[0;34m(\u001b[0m\u001b[0mself\u001b[0m\u001b[0;34m)\u001b[0m\u001b[0;34m:\u001b[0m\u001b[0;34m\u001b[0m\u001b[0;34m\u001b[0m\u001b[0m\n\u001b[1;32m    582\u001b[0m         \u001b[0;32mif\u001b[0m \u001b[0;32mnot\u001b[0m \u001b[0mself\u001b[0m\u001b[0;34m.\u001b[0m\u001b[0mprobability\u001b[0m\u001b[0;34m:\u001b[0m\u001b[0;34m\u001b[0m\u001b[0;34m\u001b[0m\u001b[0m\n\u001b[0;32m--> 583\u001b[0;31m             raise AttributeError(\"predict_proba is not available when \"\n\u001b[0m\u001b[1;32m    584\u001b[0m                                  \" probability=False\")\n\u001b[1;32m    585\u001b[0m         \u001b[0;32mif\u001b[0m \u001b[0mself\u001b[0m\u001b[0;34m.\u001b[0m\u001b[0m_impl\u001b[0m \u001b[0;32mnot\u001b[0m \u001b[0;32min\u001b[0m \u001b[0;34m(\u001b[0m\u001b[0;34m'c_svc'\u001b[0m\u001b[0;34m,\u001b[0m \u001b[0;34m'nu_svc'\u001b[0m\u001b[0;34m)\u001b[0m\u001b[0;34m:\u001b[0m\u001b[0;34m\u001b[0m\u001b[0;34m\u001b[0m\u001b[0m\n",
      "\u001b[0;31mAttributeError\u001b[0m: predict_proba is not available when  probability=False"
     ]
    }
   ],
   "source": [
    "y_pred = model.predict_proba(X)\n",
    "\n",
    "submission = pd.DataFrame({\n",
    "    \"listing_id\": test_df[\"listing_id\"],\n",
    "    \"high\": y_pred[:,0],\n",
    "    \"medium\":y_pred[:,1],\n",
    "    \"low\":y_pred[:,2]\n",
    "})\n",
    "\n",
    "titles_columns=[\"listing_id\",\"high\",\"medium\",\"low\"]\n",
    "submission=submission.reindex(columns=titles_columns)\n",
    "submission.to_csv('improved_submission.csv', index=False)"
   ]
  },
  {
   "cell_type": "code",
   "execution_count": null,
   "metadata": {},
   "outputs": [],
   "source": []
  },
  {
   "cell_type": "code",
   "execution_count": null,
   "metadata": {},
   "outputs": [],
   "source": []
  }
 ],
 "metadata": {
  "kernelspec": {
   "display_name": "Python 3",
   "language": "python",
   "name": "python3"
  },
  "language_info": {
   "codemirror_mode": {
    "name": "ipython",
    "version": 3
   },
   "file_extension": ".py",
   "mimetype": "text/x-python",
   "name": "python",
   "nbconvert_exporter": "python",
   "pygments_lexer": "ipython3",
   "version": "3.7.4"
  }
 },
 "nbformat": 4,
 "nbformat_minor": 2
}
