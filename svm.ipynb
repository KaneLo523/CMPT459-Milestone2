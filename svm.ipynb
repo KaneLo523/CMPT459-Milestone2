{
 "cells": [
  {
   "cell_type": "code",
   "execution_count": 34,
   "metadata": {},
   "outputs": [],
   "source": [
    "import pandas as pd\n",
    "import numpy as np\n",
    "import seaborn as sns\n",
    "\n",
    "from sklearn.preprocessing import StandardScaler\n",
    "from sklearn.pipeline import make_pipeline\n",
    "from sklearn.model_selection import train_test_split\n",
    "from sklearn.svm import SVC\n",
    "\n",
    "from sklearn.feature_selection import SelectKBest\n",
    "from sklearn.ensemble import ExtraTreesClassifier\n",
    "from sklearn.feature_selection import chi2\n",
    "\n",
    "from sklearn.decomposition import PCA\n",
    "from sklearn.model_selection import GridSearchCV\n",
    "\n",
    "from sklearn.model_selection import cross_val_score\n",
    "from sklearn.metrics import accuracy_score\n",
    "\n",
    "from sklearn.model_selection import KFold\n",
    "from sklearn import metrics\n",
    "from sklearn.metrics import log_loss"
   ]
  },
  {
   "cell_type": "code",
   "execution_count": 35,
   "metadata": {},
   "outputs": [],
   "source": [
    "train_df = pd.read_json(\"new_train.json.zip\")\n",
    "data = train_df.head(5000)"
   ]
  },
  {
   "cell_type": "code",
   "execution_count": 36,
   "metadata": {},
   "outputs": [
    {
     "data": {
      "text/plain": [
       "(5000, 26)"
      ]
     },
     "execution_count": 36,
     "metadata": {},
     "output_type": "execute_result"
    }
   ],
   "source": [
    "train_df = train_df.head(5000)\n",
    "train_df.shape"
   ]
  },
  {
   "cell_type": "code",
   "execution_count": 37,
   "metadata": {},
   "outputs": [
    {
     "name": "stderr",
     "output_type": "stream",
     "text": [
      "/opt/anaconda3/lib/python3.7/site-packages/sklearn/ensemble/forest.py:245: FutureWarning: The default value of n_estimators will change from 10 in version 0.20 to 100 in 0.22.\n",
      "  \"10 in version 0.20 to 100 in 0.22.\", FutureWarning)\n"
     ]
    },
    {
     "name": "stdout",
     "output_type": "stream",
     "text": [
      "[0.05090055 0.02074132 0.08667764 0.11677249 0.07359146 0.08634383\n",
      " 0.07919365 0.08582022 0.00051516 0.0818467  0.07984395 0.0779819\n",
      " 0.0809745  0.07879664]\n",
      "price                 0.116772\n",
      "latitude              0.086678\n",
      "length_description    0.086344\n",
      "closest_hospital      0.085820\n",
      "created_day           0.081847\n",
      "mean_des_tdidf        0.080974\n",
      "created_hour          0.079844\n",
      "closest_station       0.079194\n",
      "mean_feature_tdidf    0.078797\n",
      "photos_num            0.077982\n",
      "dtype: float64\n"
     ]
    },
    {
     "data": {
      "image/png": "[encoded data removed]",
      "text/plain": [
       "<Figure size 432x288 with 1 Axes>"
      ]
     },
     "metadata": {
      "needs_background": "light"
     },
     "output_type": "display_data"
    }
   ],
   "source": [
    "# Feature Selection\n",
    "cols = ['bedrooms', 'bathrooms', 'latitude', \n",
    "        'price', 'number_features', \n",
    "        'length_description', 'closest_station', 'closest_hospital',\n",
    "        'created_month', 'created_day', 'created_hour', 'photos_num', \n",
    "        'mean_des_tdidf', 'mean_feature_tdidf']\n",
    "\n",
    "X = train_df[cols]\n",
    "y = train_df['interest_level']\n",
    "\n",
    "from sklearn.ensemble import ExtraTreesClassifier\n",
    "import matplotlib.pyplot as plt\n",
    "model = ExtraTreesClassifier()\n",
    "model.fit(X,y)\n",
    "print(model.feature_importances_) #use inbuilt class feature_importances of tree based classifiers\n",
    "#plot graph of feature importances for better visualization\n",
    "feat_importances = pd.Series(model.feature_importances_, index=X.columns)\n",
    "feat_importances.nlargest(10).plot(kind='barh')\n",
    "# plt.show()\n",
    "print(feat_importances.nlargest(10))"
   ]
  },
  {
   "cell_type": "code",
   "execution_count": 38,
   "metadata": {},
   "outputs": [],
   "source": [
    "top_cols = ['price', 'latitude', 'mean_des_tdidf', \n",
    "            'length_description', 'created_hour', 'closest_hospital',\n",
    "            'closest_station', 'mean_feature_tdidf', 'created_day',\n",
    "            'photos_num']"
   ]
  },
  {
   "cell_type": "code",
   "execution_count": 43,
   "metadata": {},
   "outputs": [
    {
     "name": "stdout",
     "output_type": "stream",
     "text": [
      "Training accuracy : 0.6962004786004785\n",
      "Test accuracy : 0.6746666666666666\n"
     ]
    }
   ],
   "source": [
    "# Checking for overfitting\n",
    "X = train_df[top_cols]\n",
    "y = train_df['interest_level']\n",
    "\n",
    "X_train, X_valid, y_train, y_valid = train_test_split(X, y, test_size=0.3)\n",
    "\n",
    "\n",
    "model = make_pipeline(\n",
    "        SVC(gamma='auto')\n",
    "    )\n",
    "\n",
    "model.fit(X_train, y_train)\n",
    "\n",
    "accuracies = cross_val_score(estimator=model,X=X,y=y,cv=5)\n",
    "print('Training accuracy :', np.mean(accuracies))\n",
    "\n",
    "predictions = model.predict(X_valid)\n",
    "test_accuracy = accuracy_score(predictions, y_valid)\n",
    "print('Test accuracy :', test_accuracy)"
   ]
  },
  {
   "cell_type": "code",
   "execution_count": 31,
   "metadata": {},
   "outputs": [],
   "source": [
    "test_df = pd.read_json(\"new_test.json.zip\")\n",
    "X_test = test_df[top_cols]\n",
    "\n",
    "model = model.fit(X,y)\n",
    "\n",
    "y_pred = model.predict_proba(X_test)\n",
    "\n",
    "submission = pd.DataFrame({\n",
    "    \"listing_id\": test_df[\"listing_id\"],\n",
    "    \"high\": y_pred[:,0],\n",
    "    \"medium\":y_pred[:,1],\n",
    "    \"low\":y_pred[:,2]\n",
    "})\n",
    "\n",
    "titles_columns=[\"listing_id\",\"high\",\"medium\",\"low\"]\n",
    "submission=submission.reindex(columns=titles_columns)\n",
    "submission.to_csv('og_submission.csv', index=False)"
   ]
  },
  {
   "cell_type": "code",
   "execution_count": 40,
   "metadata": {},
   "outputs": [
    {
     "name": "stdout",
     "output_type": "stream",
     "text": [
      "Scores from each Iteration:  [0.7025, 0.6965, 0.69825, 0.6945, 0.69425]\n",
      "Scores from each Iteration:  [0.676, 0.699, 0.693, 0.708, 0.709]\n",
      "Improved Average k-fold on training:  0.6971999999999999\n",
      "Improved Average k-fold on validation:  0.697\n",
      "Improved Average k-fold on validation using logloss:  0.99755\n"
     ]
    }
   ],
   "source": [
    "# Tying to improve model accuracy \n",
    "X = train_df[top_cols]\n",
    "y = train_df['interest_level']\n",
    "# X_train, X_valid, y_train, y_valid = train_test_split(X, y, test_size=0.3)\n",
    "\n",
    "model = make_pipeline(\n",
    "        StandardScaler(),\n",
    "        PCA(n_components=2),\n",
    "        SVC(kernel='rbf', gamma=0.1, C=10, probability=True)\n",
    "    )\n",
    "\n",
    "# model.fit(X_train, y_train)\n",
    "# score = model.score(X_valid, y_valid)\n",
    "# print(score)\n",
    "\n",
    "accuracies = cross_val_score(estimator=model,X=X,y=y,cv=5, scoring='accuracy')\n",
    "accuracies\n",
    "print('Training accuracy :', np.mean(accuracies))"
   ]
  },
  {
   "cell_type": "code",
   "execution_count": null,
   "metadata": {},
   "outputs": [],
   "source": [
    "# Parameter Tuning\n",
    "\n",
    "# parameters = [{'C':[0.01,0.1,1,10,50,100,500,1000], 'kernel':['rbf'], 'gamma': [0.1,0.125,0.15,0.17,0.2]}]\n",
    "# grid_search = GridSearchCV(estimator=model, param_grid=parameters, scoring ='accuracy',cv=5,n_jobs=-1)\n",
    "# grid_search = grid_search.fit(X_train,y_train)\n",
    "\n",
    "# best_accuracy = grid_search.best_score_\n",
    "# best_accuracy\n",
    "# opt_param = grid_search.best_params_\n",
    "# opt_param\n",
    "# Best params are {'C': 10, 'gamma': 0.1, 'kernel': 'rbf'}"
   ]
  },
  {
   "cell_type": "code",
   "execution_count": null,
   "metadata": {},
   "outputs": [],
   "source": [
    "test_df = pd.read_json(\"new_test.json.zip\")\n",
    "X_test = test_df[top_cols]\n",
    "# accuracies = cross_val_score(estimator=model,X=X,y=y,cv=5, scoring='accuracy')\n",
    "# accuracies\n",
    "# print('Training accuracy :', np.mean(accuracies))\n",
    "X_test.shape"
   ]
  },
  {
   "cell_type": "code",
   "execution_count": null,
   "metadata": {},
   "outputs": [],
   "source": [
    "model = model.fit(X,y)\n",
    "\n",
    "y_pred = model.predict_proba(X_test)\n",
    "\n",
    "submission = pd.DataFrame({\n",
    "    \"listing_id\": test_df[\"listing_id\"],\n",
    "    \"high\": y_pred[:,0],\n",
    "    \"medium\":y_pred[:,1],\n",
    "    \"low\":y_pred[:,2]\n",
    "})\n",
    "\n",
    "titles_columns=[\"listing_id\",\"high\",\"medium\",\"low\"]\n",
    "submission=submission.reindex(columns=titles_columns)\n",
    "submission.to_csv('improved_submission.csv', index=False)"
   ]
  },
  {
   "cell_type": "code",
   "execution_count": null,
   "metadata": {},
   "outputs": [],
   "source": []
  },
  {
   "cell_type": "code",
   "execution_count": null,
   "metadata": {},
   "outputs": [],
   "source": []
  }
 ],
 "metadata": {
  "kernelspec": {
   "display_name": "Python 3",
   "language": "python",
   "name": "python3"
  },
  "language_info": {
   "codemirror_mode": {
    "name": "ipython",
    "version": 3
   },
   "file_extension": ".py",
   "mimetype": "text/x-python",
   "name": "python",
   "nbconvert_exporter": "python",
   "pygments_lexer": "ipython3",
   "version": "3.7.4"
  }
 },
 "nbformat": 4,
 "nbformat_minor": 2
}
